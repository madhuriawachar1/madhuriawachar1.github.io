{
 "cells": [
  {
   "cell_type": "raw",
   "metadata": {},
   "source": [
    "---\n",
    "title: \"Reccomandation System\"\n",
    "author: \"Madhuri Awachar\"\n",
    "date: \"July 12, 2023\"\n",
    "format: html\n",
    "---"
   ]
  },
  {
   "attachments": {},
   "cell_type": "markdown",
   "metadata": {},
   "source": [
    "# Introdution\n",
    "Matching consumers with the most appropriate products is key to enhancing user satisfaction and loy- alty. Therefore, more retailers have become interested in recommender systems, which analyze patterns of user interest in products to provide personalized recommenda- tions that suit a user’s taste. Because good personalized recommendations can add another dimension to the user experience, e-commerce leaders like Amazon.com and Netflix have made recommender systems a salient part of their websites."
   ]
  },
  {
   "attachments": {},
   "cell_type": "markdown",
   "metadata": {},
   "source": [
    "## Why reccomadation sys?\n",
    "Modern consumers are inundated with choices. Electronic retailers and content providers offer a huge selection of prod- ucts, with unprecedented opportunities to meet a variety of special needs and tastes. Matching consumers with the most appropriate products is key to enhancing user satisfaction and loy- alty. Therefore, more retailers have become interested in recommender systems, which analyze patterns of user interest in products to provide personalized recommenda- tions that suit a user’s taste. Because good personalized recommendations can add another dimension to the user experience, e-commerce leaders like Amazon.com and Netflix have made recommender systems a salient part of their websites.\n",
    "\n",
    "Camera image:\n",
    "\n",
    "\n",
    "\n"
   ]
  },
  {
   "attachments": {},
   "cell_type": "markdown",
   "metadata": {},
   "source": [
    "## Recommender system strategies\n",
    "1. Collaborative filtering\n",
    "\n",
    "2. Content-based filtering\n",
    "\n"
   ]
  },
  {
   "attachments": {},
   "cell_type": "markdown",
   "metadata": {},
   "source": [
    "## Collaborative filtering\n",
    "1.An alternative to content filtering relies\n",
    "only on past user behavior—for example,\n",
    "previous transactions or product ratings—\n",
    "without requiring the creation of explicit\n",
    "profiles. This approach is known as collaborative filtering\n",
    "\n",
    "2.Collaborative filtering\n",
    "analyzes relationships between users and\n",
    "interdependencies among products to\n",
    "identify new user-item associations. \n",
    "\n",
    "3.more accurate than\n",
    "content-based techniques\n",
    "\n",
    "4.cold\n",
    "start problem, due to its inability to address the system’s new products and users. In this aspect,\n",
    "content filtering is superior.\n",
    "\n",
    "## 5.The two primary areas of collaborative filtering are:\n",
    "# neighborhood methods\n",
    "# latent factor models   \n"
   ]
  },
  {
   "attachments": {},
   "cell_type": "markdown",
   "metadata": {},
   "source": [
    "## Matrix Factorization Methods for reccomandation system\n"
   ]
  },
  {
   "cell_type": "raw",
   "metadata": {},
   "source": []
  },
  {
   "cell_type": "markdown",
   "metadata": {},
   "source": [
    "One other quick way is to size down image then resize it to original size. This way we can get low resolution image. "
   ]
  },
  {
   "attachments": {},
   "cell_type": "markdown",
   "metadata": {},
   "source": [
    "# Main task\n",
    "Our main task is develop reccomandation system. We will be using the following methods for this task:\n",
    "1. collaborative filtering(CF)\n",
    "2. Matrix Factorization(MF)"
   ]
  },
  {
   "cell_type": "raw",
   "metadata": {},
   "source": []
  },
  {
   "cell_type": "markdown",
   "metadata": {},
   "source": [
    "As soon as we see the images dataset, first we think is about is Convolutions. So we will be using CNN for this task but why? "
   ]
  },
  {
   "attachments": {},
   "cell_type": "markdown",
   "metadata": {},
   "source": [
    "## Movie reccomandation example\n",
    "\n",
    "systems are particularly useful for entertainment products such as movies, music, and TV shows. Many cus- tomers will view the same movie, and each customer is likely to view numerous different movies. Customers have proven willing to indicate their level of satisfaction with particular movies, so a huge volume of data is available about which movies appeal to which customers. Com- panies can analyze this data to recommend movies to particular customers."
   ]
  }
 ],
 "metadata": {
  "kernelspec": {
   "display_name": "Python 3",
   "language": "python",
   "name": "python3"
  },
  "language_info": {
   "codemirror_mode": {
    "name": "ipython",
    "version": 3
   },
   "file_extension": ".py",
   "mimetype": "text/x-python",
   "name": "python",
   "nbconvert_exporter": "python",
   "pygments_lexer": "ipython3",
   "version": "3.11.2 (main, Mar 24 2023, 00:16:47) [Clang 14.0.0 (clang-1400.0.29.202)]"
  },
  "orig_nbformat": 4,
  "vscode": {
   "interpreter": {
    "hash": "b0fa6594d8f4cbf19f97940f81e996739fb7646882a419484c72d19e05852a7e"
   }
  }
 },
 "nbformat": 4,
 "nbformat_minor": 2
}
